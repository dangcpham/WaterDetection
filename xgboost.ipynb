{
 "cells": [
  {
   "cell_type": "code",
   "execution_count": 9,
   "id": "abc93c49-93b7-43f4-ba70-e0617de07fb1",
   "metadata": {},
   "outputs": [],
   "source": [
    "import numpy as np\n",
    "import matplotlib.pyplot as plt\n",
    "import pickle\n",
    "import pandas as pd"
   ]
  },
  {
   "cell_type": "code",
   "execution_count": 40,
   "id": "cef3a093-3fbc-43d7-ac2f-424dd30d5c38",
   "metadata": {},
   "outputs": [],
   "source": [
    "from sklearn.model_selection import train_test_split"
   ]
  },
  {
   "cell_type": "code",
   "execution_count": 311,
   "id": "f56cc59e-b0db-4338-9201-33e87a259331",
   "metadata": {},
   "outputs": [],
   "source": [
    "from xgboost import XGBClassifier\n",
    "import xgboost as xgb"
   ]
  },
  {
   "cell_type": "code",
   "execution_count": 72,
   "id": "b149ca46-0f61-4618-9beb-d8e2be55e4f1",
   "metadata": {},
   "outputs": [],
   "source": [
    "from sklearn.metrics import auc, accuracy_score, confusion_matrix, balanced_accuracy_score"
   ]
  },
  {
   "cell_type": "markdown",
   "id": "9d1a2dc7-96bf-4a8a-af7d-ab45e8c58d66",
   "metadata": {},
   "source": [
    "## Get generated data"
   ]
  },
  {
   "cell_type": "code",
   "execution_count": 226,
   "id": "547217cd-b0de-4fc2-94b9-27b94a7c3976",
   "metadata": {},
   "outputs": [],
   "source": [
    "filter_names, colors = pickle.load(open(\"output/colors_f1.pkl\", \"rb\"))"
   ]
  },
  {
   "cell_type": "code",
   "execution_count": 6,
   "id": "9680d4a5-1a74-4b1f-8511-bfda503b3cb1",
   "metadata": {},
   "outputs": [],
   "source": [
    "# load all component combinations that sum to unity\n",
    "component_names, unity_surface_combinations = pickle.load(open(\"output/surface_combinations.pkl\", \"rb\"))"
   ]
  },
  {
   "cell_type": "code",
   "execution_count": 11,
   "id": "5ce8bda0-02e4-4b5e-9e03-125790812bc4",
   "metadata": {},
   "outputs": [
    {
     "data": {
      "text/html": [
       "<div>\n",
       "<style scoped>\n",
       "    .dataframe tbody tr th:only-of-type {\n",
       "        vertical-align: middle;\n",
       "    }\n",
       "\n",
       "    .dataframe tbody tr th {\n",
       "        vertical-align: top;\n",
       "    }\n",
       "\n",
       "    .dataframe thead th {\n",
       "        text-align: right;\n",
       "    }\n",
       "</style>\n",
       "<table border=\"1\" class=\"dataframe\">\n",
       "  <thead>\n",
       "    <tr style=\"text-align: right;\">\n",
       "      <th></th>\n",
       "      <th>cloud</th>\n",
       "      <th>snow</th>\n",
       "      <th>sand</th>\n",
       "      <th>seawater</th>\n",
       "      <th>basalt</th>\n",
       "      <th>veg</th>\n",
       "    </tr>\n",
       "  </thead>\n",
       "  <tbody>\n",
       "    <tr>\n",
       "      <th>0</th>\n",
       "      <td>0.00</td>\n",
       "      <td>0.00</td>\n",
       "      <td>0.00</td>\n",
       "      <td>0.00</td>\n",
       "      <td>0.00</td>\n",
       "      <td>1.00</td>\n",
       "    </tr>\n",
       "    <tr>\n",
       "      <th>1</th>\n",
       "      <td>0.00</td>\n",
       "      <td>0.00</td>\n",
       "      <td>0.00</td>\n",
       "      <td>0.00</td>\n",
       "      <td>0.05</td>\n",
       "      <td>0.95</td>\n",
       "    </tr>\n",
       "    <tr>\n",
       "      <th>2</th>\n",
       "      <td>0.00</td>\n",
       "      <td>0.00</td>\n",
       "      <td>0.00</td>\n",
       "      <td>0.00</td>\n",
       "      <td>0.10</td>\n",
       "      <td>0.90</td>\n",
       "    </tr>\n",
       "    <tr>\n",
       "      <th>3</th>\n",
       "      <td>0.00</td>\n",
       "      <td>0.00</td>\n",
       "      <td>0.00</td>\n",
       "      <td>0.00</td>\n",
       "      <td>0.15</td>\n",
       "      <td>0.85</td>\n",
       "    </tr>\n",
       "    <tr>\n",
       "      <th>4</th>\n",
       "      <td>0.00</td>\n",
       "      <td>0.00</td>\n",
       "      <td>0.00</td>\n",
       "      <td>0.00</td>\n",
       "      <td>0.20</td>\n",
       "      <td>0.80</td>\n",
       "    </tr>\n",
       "    <tr>\n",
       "      <th>...</th>\n",
       "      <td>...</td>\n",
       "      <td>...</td>\n",
       "      <td>...</td>\n",
       "      <td>...</td>\n",
       "      <td>...</td>\n",
       "      <td>...</td>\n",
       "    </tr>\n",
       "    <tr>\n",
       "      <th>53125</th>\n",
       "      <td>0.95</td>\n",
       "      <td>0.00</td>\n",
       "      <td>0.00</td>\n",
       "      <td>0.00</td>\n",
       "      <td>0.05</td>\n",
       "      <td>0.00</td>\n",
       "    </tr>\n",
       "    <tr>\n",
       "      <th>53126</th>\n",
       "      <td>0.95</td>\n",
       "      <td>0.00</td>\n",
       "      <td>0.00</td>\n",
       "      <td>0.05</td>\n",
       "      <td>0.00</td>\n",
       "      <td>0.00</td>\n",
       "    </tr>\n",
       "    <tr>\n",
       "      <th>53127</th>\n",
       "      <td>0.95</td>\n",
       "      <td>0.00</td>\n",
       "      <td>0.05</td>\n",
       "      <td>0.00</td>\n",
       "      <td>0.00</td>\n",
       "      <td>0.00</td>\n",
       "    </tr>\n",
       "    <tr>\n",
       "      <th>53128</th>\n",
       "      <td>0.95</td>\n",
       "      <td>0.05</td>\n",
       "      <td>0.00</td>\n",
       "      <td>0.00</td>\n",
       "      <td>0.00</td>\n",
       "      <td>0.00</td>\n",
       "    </tr>\n",
       "    <tr>\n",
       "      <th>53129</th>\n",
       "      <td>1.00</td>\n",
       "      <td>0.00</td>\n",
       "      <td>0.00</td>\n",
       "      <td>0.00</td>\n",
       "      <td>0.00</td>\n",
       "      <td>0.00</td>\n",
       "    </tr>\n",
       "  </tbody>\n",
       "</table>\n",
       "<p>53130 rows × 6 columns</p>\n",
       "</div>"
      ],
      "text/plain": [
       "       cloud  snow  sand  seawater  basalt   veg\n",
       "0       0.00  0.00  0.00      0.00    0.00  1.00\n",
       "1       0.00  0.00  0.00      0.00    0.05  0.95\n",
       "2       0.00  0.00  0.00      0.00    0.10  0.90\n",
       "3       0.00  0.00  0.00      0.00    0.15  0.85\n",
       "4       0.00  0.00  0.00      0.00    0.20  0.80\n",
       "...      ...   ...   ...       ...     ...   ...\n",
       "53125   0.95  0.00  0.00      0.00    0.05  0.00\n",
       "53126   0.95  0.00  0.00      0.05    0.00  0.00\n",
       "53127   0.95  0.00  0.05      0.00    0.00  0.00\n",
       "53128   0.95  0.05  0.00      0.00    0.00  0.00\n",
       "53129   1.00  0.00  0.00      0.00    0.00  0.00\n",
       "\n",
       "[53130 rows x 6 columns]"
      ]
     },
     "execution_count": 11,
     "metadata": {},
     "output_type": "execute_result"
    }
   ],
   "source": [
    "unity_surface_combinations_df = pd.DataFrame(unity_surface_combinations, \n",
    "                                             columns=component_names)\n",
    "unity_surface_combinations_df"
   ]
  },
  {
   "cell_type": "code",
   "execution_count": 35,
   "id": "9dc1e87e-1d68-4fb1-b470-f9cfded965d3",
   "metadata": {},
   "outputs": [],
   "source": [
    "colors_and_combinations = np.concatenate((unity_surface_combinations, colors), axis=1)\n",
    "# main_df = pd.DataFrame(colors_and_combinations,\n",
    "#                        columns=component_names + filter_names)"
   ]
  },
  {
   "cell_type": "code",
   "execution_count": null,
   "id": "f547dbc9-ea0e-4632-92ab-536dcecc6172",
   "metadata": {},
   "outputs": [],
   "source": []
  },
  {
   "cell_type": "code",
   "execution_count": null,
   "id": "3f6967b3-4694-41c2-910c-dbcdf7e306e0",
   "metadata": {},
   "outputs": [],
   "source": []
  },
  {
   "cell_type": "code",
   "execution_count": 443,
   "id": "04107a67-50db-4ca8-9ccf-6e1290293375",
   "metadata": {},
   "outputs": [
    {
     "name": "stderr",
     "output_type": "stream",
     "text": [
      "/home/dang/anaconda3/lib/python3.8/site-packages/xgboost/sklearn.py:1224: UserWarning: The use of label encoder in XGBClassifier is deprecated and will be removed in a future release. To remove this warning, do the following: 1) Pass option use_label_encoder=False when constructing XGBClassifier object; and 2) Encode your labels (y) as integers starting with 0, i.e. 0, 1, 2, ..., [num_class - 1].\n",
      "  warnings.warn(label_encoder_deprecation_msg, UserWarning)\n"
     ]
    },
    {
     "name": "stdout",
     "output_type": "stream",
     "text": [
      "[02:59:19] WARNING: ../src/learner.cc:1115: Starting in XGBoost 1.3.0, the default evaluation metric used with the objective 'binary:logistic' was changed from 'error' to 'logloss'. Explicitly set eval_metric if you'd like to restore the old behavior.\n"
     ]
    },
    {
     "name": "stderr",
     "output_type": "stream",
     "text": [
      "/home/dang/anaconda3/lib/python3.8/site-packages/xgboost/sklearn.py:1224: UserWarning: The use of label encoder in XGBClassifier is deprecated and will be removed in a future release. To remove this warning, do the following: 1) Pass option use_label_encoder=False when constructing XGBClassifier object; and 2) Encode your labels (y) as integers starting with 0, i.e. 0, 1, 2, ..., [num_class - 1].\n",
      "  warnings.warn(label_encoder_deprecation_msg, UserWarning)\n"
     ]
    },
    {
     "name": "stdout",
     "output_type": "stream",
     "text": [
      "[03:02:42] WARNING: ../src/learner.cc:1115: Starting in XGBoost 1.3.0, the default evaluation metric used with the objective 'binary:logistic' was changed from 'error' to 'logloss'. Explicitly set eval_metric if you'd like to restore the old behavior.\n"
     ]
    },
    {
     "name": "stderr",
     "output_type": "stream",
     "text": [
      "/home/dang/anaconda3/lib/python3.8/site-packages/xgboost/sklearn.py:1224: UserWarning: The use of label encoder in XGBClassifier is deprecated and will be removed in a future release. To remove this warning, do the following: 1) Pass option use_label_encoder=False when constructing XGBClassifier object; and 2) Encode your labels (y) as integers starting with 0, i.e. 0, 1, 2, ..., [num_class - 1].\n",
      "  warnings.warn(label_encoder_deprecation_msg, UserWarning)\n"
     ]
    },
    {
     "name": "stdout",
     "output_type": "stream",
     "text": [
      "[03:06:11] WARNING: ../src/learner.cc:1115: Starting in XGBoost 1.3.0, the default evaluation metric used with the objective 'binary:logistic' was changed from 'error' to 'logloss'. Explicitly set eval_metric if you'd like to restore the old behavior.\n"
     ]
    }
   ],
   "source": [
    "classifying_components = ['seawater','snow','cloud']\n",
    "snrs = np.arange(5, 105, 5)\n",
    "random_initializations = 100\n",
    "xgb_clfs = []\n",
    "ba_score_no_noise = np.zeros(len(classifying_components))\n",
    "feature_importance = np.zeros((len(classifying_components), len(filter_names)))\n",
    "\n",
    "for i, component in enumerate(classifying_components):\n",
    "    # get training data and labels for machine learning\n",
    "    X = colors\n",
    "    y = (unity_surface_combinations_df[component] > 0).astype(int)\n",
    "    \n",
    "    X_train, X_test_no_noise, y_train, y_test= train_test_split(\n",
    "                X, y, test_size=0.2, shuffle=True)\n",
    "    \n",
    "    # train XGBoost\n",
    "    model = XGBClassifier(objective=\"binary:logistic\", \n",
    "              tree_method = \"auto\",\n",
    "              scale_pos_weight = len(y_train[y_train == 0])/len(y_train[y_train > 0]),\n",
    "    #                       gpu_id = 0, \n",
    "              use_label_encoder=False\n",
    "              eval_metric=balanced_accuracy_score)\n",
    "    model.fit(X_train, y_train)\n",
    "    \n",
    "    # append to list of trained models\n",
    "    xgb_clfs.append(model)\n",
    "    \n",
    "    # evaluate model at no noise\n",
    "    y_pred_no_noise = model.predict(X_test_no_noise)\n",
    "    \n",
    "    # get balanced accuracy and feature importance\n",
    "    ba_score_no_noise[i] = balanced_accuracy_score(y_test, y_pred_no_noise)\n",
    "    feature_importance[i] = model.feature_importances_\n",
    "    \n",
    "    # evaluate at various snrs\n",
    "    y_pred = np.zeros((len(snrs), random_initializations, y_test.shape[0]))\n",
    "    ba_scores = np.zeros((len(snrs), random_initializations))\n",
    "    \n",
    "    for j, snr in enumerate(snrs):\n",
    "        gaussian_scatter = 1/snr\n",
    "        \n",
    "        for k in range(random_initializations):\n",
    "            # add noise to testing dataset\n",
    "            noise_array = X_test_no_noise*gaussian_scatter*np.random.standard_normal(X_test_no_noise.shape)\n",
    "            X_test = X_test_no_noise + noise_array\n",
    "            \n",
    "            # predict\n",
    "            y_pred[j, k] = model.predict(X_test)\n",
    "            ba_scores[j, k] = balanced_accuracy_score(y_test, y_pred[j, k])\n",
    "    \n",
    "    # save data\n",
    "    pickle.dump((model, y_test, snrs, y_pred_no_noise, y_pred, ba_score_no_noise[i], ba_scores), \n",
    "                open(f\"output/result_{component}.pkl\", \"wb\"))\n",
    "\n",
    "pickle.dump((model, feature_importance), open(f\"output/models_and_features.pkl\", \"wb\"))"
   ]
  },
  {
   "cell_type": "code",
   "execution_count": 438,
   "id": "7a5bcf18-f5bd-4745-a77b-078d033fe04a",
   "metadata": {},
   "outputs": [
    {
     "data": {
      "image/png": "[encoded data removed]",
      "text/plain": [
       "<Figure size 432x288 with 2 Axes>"
      ]
     },
     "metadata": {
      "needs_background": "light"
     },
     "output_type": "display_data"
    }
   ],
   "source": [
    "fig, ax = plt.subplots()\n",
    "img = ax.imshow(feature_importance.T)\n",
    "\n",
    "fig.colorbar(img, label='Feature Importance')\n",
    "\n",
    "nice_component_names = ['Water', 'Snow', 'Cloud']\n",
    "ax.set_xticks(np.arange(0, len(classifying_components), 1))\n",
    "ax.set_xticklabels(nice_component_names, rotation=90)\n",
    "\n",
    "nice_filter_names = [f\"$f_{i+1}$\" for i in range(len(filter_names))]\n",
    "ax.set_yticks(np.arange(0, len(filter_names), 1))\n",
    "ax.set_yticklabels(nice_filter_names);"
   ]
  },
  {
   "cell_type": "code",
   "execution_count": 470,
   "id": "43c25d26-aa89-4bcb-8391-26c67bededc7",
   "metadata": {},
   "outputs": [
    {
     "data": {
      "image/png": "[encoded data removed]",
      "text/plain": [
       "<Figure size 288x576 with 3 Axes>"
      ]
     },
     "metadata": {
      "needs_background": "light"
     },
     "output_type": "display_data"
    }
   ],
   "source": [
    "fig, axes = plt.subplots(nrows=feature_importance.shape[0], sharex=True, figsize=(4,8))\n",
    "color_list = ['tab:red', 'tab:orange', 'tab:blue']\n",
    "for i, ax in enumerate(axes):\n",
    "    ax.bar(nice_filter_names, feature_importance[i,:], color=color_list[i], label=nice_component_names[i])\n",
    "    ax.set_ylabel('Feature Importance')\n",
    "fig.subplots_adjust( hspace=0 )\n",
    "axes[2].set_xlabel('Filters')\n",
    "fig.legend(frameon=False, bbox_to_anchor=(1.15, 0.6));\n"
   ]
  },
  {
   "cell_type": "code",
   "execution_count": 472,
   "id": "157d7be5-f517-48a6-88d0-84ccd3cd7e52",
   "metadata": {},
   "outputs": [
    {
     "data": {
      "image/png": "[encoded data removed]",
      "text/plain": [
       "<Figure size 432x432 with 1 Axes>"
      ]
     },
     "metadata": {
      "needs_background": "light"
     },
     "output_type": "display_data"
    }
   ],
   "source": [
    "fig, ax = plt.subplots(nrows=1, sharex=True, figsize=(6,6))\n",
    "color_list = ['tab:red', 'tab:orange', 'tab:blue']\n",
    "for i in range(feature_importance.shape[0]):\n",
    "    ax.bar(nice_filter_names, feature_importance[i,:], \n",
    "           color=color_list[i], label=nice_component_names[i],\n",
    "           alpha=0.5)\n",
    "    ax.set_ylabel('Feature Importance')\n",
    "fig.subplots_adjust( hspace=0 )\n",
    "ax.set_xlabel('Filters')\n",
    "fig.legend(frameon=False, bbox_to_anchor=(1.15, 0.6));"
   ]
  },
  {
   "cell_type": "code",
   "execution_count": 473,
   "id": "6c4d3e06-f76c-4933-bbda-a70867c7788b",
   "metadata": {},
   "outputs": [
    {
     "data": {
      "image/png": "[encoded data removed]",
      "text/plain": [
       "<Figure size 432x288 with 1 Axes>"
      ]
     },
     "metadata": {
      "needs_background": "light"
     },
     "output_type": "display_data"
    }
   ],
   "source": [
    "fig, ax = plt.subplots()\n",
    "for i, component in enumerate(classifying_components):\n",
    "    _, _, snrs, _, _, ba_score_no_noise, ba_scores = pickle.load(open(f\"output/result_{component}.pkl\", \"rb\"))\n",
    "    lower, median, upper = np.percentile(ba_scores, (2.5, 50, 97.5), axis=1)\n",
    "    plotline, = ax.plot(snrs, median, label=nice_component_names[i])\n",
    "    ax.axhline(ba_score_no_noise, color=plotline.get_color(), linestyle='--', alpha=0.5)\n",
    "    \n",
    "    ax.fill_between(snrs, lower, upper, alpha=0.2)\n",
    "\n",
    "ax.legend(frameon=False)\n",
    "ax.set_xlabel('S/N')\n",
    "ax.set_ylabel('Balanced Accuracy');\n"
   ]
  },
  {
   "cell_type": "code",
   "execution_count": null,
   "id": "c8fb6d16-e75a-4dd4-ab75-54889a3c0b41",
   "metadata": {},
   "outputs": [],
   "source": []
  },
  {
   "cell_type": "code",
   "execution_count": null,
   "id": "010aefc9-0ff3-4fc9-8518-f696daf18225",
   "metadata": {},
   "outputs": [],
   "source": []
  }
 ],
 "metadata": {
  "kernelspec": {
   "display_name": "Python 3",
   "language": "python",
   "name": "python3"
  },
  "language_info": {
   "codemirror_mode": {
    "name": "ipython",
    "version": 3
   },
   "file_extension": ".py",
   "mimetype": "text/x-python",
   "name": "python",
   "nbconvert_exporter": "python",
   "pygments_lexer": "ipython3",
   "version": "3.8.8"
  }
 },
 "nbformat": 4,
 "nbformat_minor": 5
}
