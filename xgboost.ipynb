{
 "cells": [
  {
   "cell_type": "code",
   "execution_count": 1,
   "id": "abc93c49-93b7-43f4-ba70-e0617de07fb1",
   "metadata": {},
   "outputs": [],
   "source": [
    "import numpy as np\n",
    "import matplotlib.pyplot as plt\n",
    "import pickle\n",
    "import pandas as pd"
   ]
  },
  {
   "cell_type": "code",
   "execution_count": 2,
   "id": "d1cd38d9-9ba4-48de-a866-634f04f0ac33",
   "metadata": {},
   "outputs": [],
   "source": [
    "import settings\n",
    "import utils"
   ]
  },
  {
   "cell_type": "code",
   "execution_count": 3,
   "id": "cef3a093-3fbc-43d7-ac2f-424dd30d5c38",
   "metadata": {},
   "outputs": [],
   "source": [
    "from sklearn.model_selection import train_test_split"
   ]
  },
  {
   "cell_type": "code",
   "execution_count": 4,
   "id": "f56cc59e-b0db-4338-9201-33e87a259331",
   "metadata": {},
   "outputs": [],
   "source": [
    "from xgboost import XGBClassifier\n",
    "import xgboost as xgb"
   ]
  },
  {
   "cell_type": "code",
   "execution_count": 5,
   "id": "b149ca46-0f61-4618-9beb-d8e2be55e4f1",
   "metadata": {},
   "outputs": [],
   "source": [
    "from sklearn.metrics import confusion_matrix, balanced_accuracy_score"
   ]
  },
  {
   "cell_type": "code",
   "execution_count": 6,
   "id": "07c8e07e-4618-4a2e-bc90-32c91bc78517",
   "metadata": {},
   "outputs": [],
   "source": [
    "plt.rc('text', usetex=True)\n",
    "plt.rc('font', size=14)\n",
    "plt.rc('legend', fontsize=13)"
   ]
  },
  {
   "cell_type": "markdown",
   "id": "9d1a2dc7-96bf-4a8a-af7d-ab45e8c58d66",
   "metadata": {},
   "source": [
    "## Get generated data"
   ]
  },
  {
   "cell_type": "code",
   "execution_count": 7,
   "id": "547217cd-b0de-4fc2-94b9-27b94a7c3976",
   "metadata": {},
   "outputs": [],
   "source": [
    "filter_names, colors = pickle.load(open(\"output/colors_f1.pkl\", \"rb\"))"
   ]
  },
  {
   "cell_type": "code",
   "execution_count": 8,
   "id": "f2b23832-ba40-42cb-b00b-36d135905d3d",
   "metadata": {},
   "outputs": [],
   "source": [
    "filter_info = pickle.load(open(\"output/filters_f1.pkl\", \"rb\"))"
   ]
  },
  {
   "cell_type": "code",
   "execution_count": 9,
   "id": "9680d4a5-1a74-4b1f-8511-bfda503b3cb1",
   "metadata": {},
   "outputs": [],
   "source": [
    "# load all component combinations that sum to unity\n",
    "component_names, unity_surface_combinations = pickle.load(open(\"output/surface_combinations.pkl\", \"rb\"))"
   ]
  },
  {
   "cell_type": "code",
   "execution_count": 10,
   "id": "5ce8bda0-02e4-4b5e-9e03-125790812bc4",
   "metadata": {},
   "outputs": [
    {
     "data": {
      "text/html": [
       "<div>\n",
       "<style scoped>\n",
       "    .dataframe tbody tr th:only-of-type {\n",
       "        vertical-align: middle;\n",
       "    }\n",
       "\n",
       "    .dataframe tbody tr th {\n",
       "        vertical-align: top;\n",
       "    }\n",
       "\n",
       "    .dataframe thead th {\n",
       "        text-align: right;\n",
       "    }\n",
       "</style>\n",
       "<table border=\"1\" class=\"dataframe\">\n",
       "  <thead>\n",
       "    <tr style=\"text-align: right;\">\n",
       "      <th></th>\n",
       "      <th>cloud</th>\n",
       "      <th>snow</th>\n",
       "      <th>sand</th>\n",
       "      <th>seawater</th>\n",
       "      <th>basalt</th>\n",
       "      <th>veg</th>\n",
       "    </tr>\n",
       "  </thead>\n",
       "  <tbody>\n",
       "    <tr>\n",
       "      <th>0</th>\n",
       "      <td>0.00</td>\n",
       "      <td>0.00</td>\n",
       "      <td>0.00</td>\n",
       "      <td>0.00</td>\n",
       "      <td>0.00</td>\n",
       "      <td>1.00</td>\n",
       "    </tr>\n",
       "    <tr>\n",
       "      <th>1</th>\n",
       "      <td>0.00</td>\n",
       "      <td>0.00</td>\n",
       "      <td>0.00</td>\n",
       "      <td>0.00</td>\n",
       "      <td>0.05</td>\n",
       "      <td>0.95</td>\n",
       "    </tr>\n",
       "    <tr>\n",
       "      <th>2</th>\n",
       "      <td>0.00</td>\n",
       "      <td>0.00</td>\n",
       "      <td>0.00</td>\n",
       "      <td>0.00</td>\n",
       "      <td>0.10</td>\n",
       "      <td>0.90</td>\n",
       "    </tr>\n",
       "    <tr>\n",
       "      <th>3</th>\n",
       "      <td>0.00</td>\n",
       "      <td>0.00</td>\n",
       "      <td>0.00</td>\n",
       "      <td>0.00</td>\n",
       "      <td>0.15</td>\n",
       "      <td>0.85</td>\n",
       "    </tr>\n",
       "    <tr>\n",
       "      <th>4</th>\n",
       "      <td>0.00</td>\n",
       "      <td>0.00</td>\n",
       "      <td>0.00</td>\n",
       "      <td>0.00</td>\n",
       "      <td>0.20</td>\n",
       "      <td>0.80</td>\n",
       "    </tr>\n",
       "    <tr>\n",
       "      <th>...</th>\n",
       "      <td>...</td>\n",
       "      <td>...</td>\n",
       "      <td>...</td>\n",
       "      <td>...</td>\n",
       "      <td>...</td>\n",
       "      <td>...</td>\n",
       "    </tr>\n",
       "    <tr>\n",
       "      <th>53125</th>\n",
       "      <td>0.95</td>\n",
       "      <td>0.00</td>\n",
       "      <td>0.00</td>\n",
       "      <td>0.00</td>\n",
       "      <td>0.05</td>\n",
       "      <td>0.00</td>\n",
       "    </tr>\n",
       "    <tr>\n",
       "      <th>53126</th>\n",
       "      <td>0.95</td>\n",
       "      <td>0.00</td>\n",
       "      <td>0.00</td>\n",
       "      <td>0.05</td>\n",
       "      <td>0.00</td>\n",
       "      <td>0.00</td>\n",
       "    </tr>\n",
       "    <tr>\n",
       "      <th>53127</th>\n",
       "      <td>0.95</td>\n",
       "      <td>0.00</td>\n",
       "      <td>0.05</td>\n",
       "      <td>0.00</td>\n",
       "      <td>0.00</td>\n",
       "      <td>0.00</td>\n",
       "    </tr>\n",
       "    <tr>\n",
       "      <th>53128</th>\n",
       "      <td>0.95</td>\n",
       "      <td>0.05</td>\n",
       "      <td>0.00</td>\n",
       "      <td>0.00</td>\n",
       "      <td>0.00</td>\n",
       "      <td>0.00</td>\n",
       "    </tr>\n",
       "    <tr>\n",
       "      <th>53129</th>\n",
       "      <td>1.00</td>\n",
       "      <td>0.00</td>\n",
       "      <td>0.00</td>\n",
       "      <td>0.00</td>\n",
       "      <td>0.00</td>\n",
       "      <td>0.00</td>\n",
       "    </tr>\n",
       "  </tbody>\n",
       "</table>\n",
       "<p>53130 rows × 6 columns</p>\n",
       "</div>"
      ],
      "text/plain": [
       "       cloud  snow  sand  seawater  basalt   veg\n",
       "0       0.00  0.00  0.00      0.00    0.00  1.00\n",
       "1       0.00  0.00  0.00      0.00    0.05  0.95\n",
       "2       0.00  0.00  0.00      0.00    0.10  0.90\n",
       "3       0.00  0.00  0.00      0.00    0.15  0.85\n",
       "4       0.00  0.00  0.00      0.00    0.20  0.80\n",
       "...      ...   ...   ...       ...     ...   ...\n",
       "53125   0.95  0.00  0.00      0.00    0.05  0.00\n",
       "53126   0.95  0.00  0.00      0.05    0.00  0.00\n",
       "53127   0.95  0.00  0.05      0.00    0.00  0.00\n",
       "53128   0.95  0.05  0.00      0.00    0.00  0.00\n",
       "53129   1.00  0.00  0.00      0.00    0.00  0.00\n",
       "\n",
       "[53130 rows x 6 columns]"
      ]
     },
     "execution_count": 10,
     "metadata": {},
     "output_type": "execute_result"
    }
   ],
   "source": [
    "unity_surface_combinations_df = pd.DataFrame(unity_surface_combinations, \n",
    "                                             columns=component_names)\n",
    "unity_surface_combinations_df"
   ]
  },
  {
   "cell_type": "code",
   "execution_count": 11,
   "id": "9dc1e87e-1d68-4fb1-b470-f9cfded965d3",
   "metadata": {},
   "outputs": [],
   "source": [
    "# colors_and_combinations = np.concatenate((unity_surface_combinations, colors), axis=1)\n",
    "# main_df = pd.DataFrame(colors_and_combinations,\n",
    "#                        columns=component_names + filter_names)"
   ]
  },
  {
   "cell_type": "markdown",
   "id": "e96cfa33-6465-4c1a-8da1-7531810e7c82",
   "metadata": {},
   "source": [
    "## Analyze data"
   ]
  },
  {
   "cell_type": "code",
   "execution_count": 12,
   "id": "1ce3a388-a5cd-461f-b7a0-6ab0b8dcc531",
   "metadata": {},
   "outputs": [],
   "source": [
    "model, feature_importance = pickle.load(open(f\"output/models_and_features.pkl\", \"rb\"))"
   ]
  },
  {
   "cell_type": "code",
   "execution_count": 101,
   "id": "c2bf9dea-e39a-40ae-af28-73a459ba8d9a",
   "metadata": {},
   "outputs": [],
   "source": [
    "# use top 5 filters\n",
    "N_GOOD_FILTERS = 5\n",
    "\n",
    "good_filters = np.sort(feature_importance.flatten())[-N_GOOD_FILTERS:]\n",
    "good_filters_idx = np.argwhere(np.isin(feature_importance, good_filters))[:,1]\n",
    "good_filters_values = np.array(list(filter_info.values()))[good_filters_idx]\n",
    "good_filters_name = np.array(list(filter_info.keys()))[good_filters_idx]\n",
    "good_filters_info = {name: val for name, val in zip(good_filters_name, good_filters_values) }\n",
    "\n",
    "# # save good filters info\n",
    "# pickle.dump(good_filters_info ,open(\"output/good_filters_info.pkl\", \"wb\"))"
   ]
  },
  {
   "cell_type": "code",
   "execution_count": 102,
   "id": "7a5bcf18-f5bd-4745-a77b-078d033fe04a",
   "metadata": {},
   "outputs": [
    {
     "data": {
      "image/png": "[encoded data removed]",
      "text/plain": [
       "<Figure size 432x288 with 2 Axes>"
      ]
     },
     "metadata": {
      "needs_background": "light"
     },
     "output_type": "display_data"
    }
   ],
   "source": [
    "fig, ax = plt.subplots()\n",
    "img = ax.imshow(feature_importance.T, cmap='magma')\n",
    "\n",
    "fig.colorbar(img, label='Feature Importance')\n",
    "\n",
    "nice_component_names = ['Water', 'Snow', 'Cloud']\n",
    "ax.set_xticks(np.arange(0, len(settings.CLASSIFYING_COMPONENTS), 1))\n",
    "ax.set_xticklabels(nice_component_names, rotation=70)\n",
    "\n",
    "nice_filter_names = [f\"$f_{i+1}$\" for i in range(len(filter_names))]\n",
    "ax.set_yticks(np.arange(0, len(filter_names), 1))\n",
    "ax.set_yticklabels(nice_filter_names);\n",
    "\n",
    "for idx in good_filters_idx:\n",
    "    ax.get_yticklabels()[idx].set_color(\"tab:blue\")\n",
    "    ax.get_yticklabels()[idx].set_weight(\"bold\")\n",
    "    ax.get_yticklabels()[idx].set_style(\"italic\")\n",
    "    "
   ]
  },
  {
   "cell_type": "code",
   "execution_count": 103,
   "id": "910d4ef6-ca66-4a48-adf4-7b78ac49b274",
   "metadata": {},
   "outputs": [],
   "source": [
    "nice_filter_names = []\n",
    "for i, _ in enumerate(filter_names):\n",
    "    if i in good_filters_idx:\n",
    "        nice_filter_names.append(r\"$\\underline{{f}_\" + str(i) + \"}$\")\n",
    "    else:\n",
    "        nice_filter_names.append(r\"$f_\" + str(i) + \"$\")"
   ]
  },
  {
   "cell_type": "code",
   "execution_count": 106,
   "id": "157d7be5-f517-48a6-88d0-84ccd3cd7e52",
   "metadata": {},
   "outputs": [
    {
     "data": {
      "image/png": "[encoded data removed]",
      "text/plain": [
       "<Figure size 432x432 with 1 Axes>"
      ]
     },
     "metadata": {
      "needs_background": "light"
     },
     "output_type": "display_data"
    }
   ],
   "source": [
    "fig, ax = plt.subplots(nrows=1, sharex=True, figsize=(6,6))\n",
    "color_list = ['tab:red', 'tab:orange', 'tab:blue']\n",
    "\n",
    "for i in range(feature_importance.shape[0]):\n",
    "    \n",
    "    ax.bar(nice_filter_names, feature_importance[i,:], \n",
    "           color=color_list[i], label=nice_component_names[i],\n",
    "           alpha=0.5)\n",
    "    ax.set_ylabel('Feature Importance')\n",
    "\n",
    "    \n",
    "for i, xticklabel in enumerate(ax.get_xticklabels()):\n",
    "    if i in good_filters_idx:\n",
    "        xticklabel.set_color(\"tab:red\")\n",
    "    else:\n",
    "        xticklabel.set_color(\"tab:gray\")\n",
    "\n",
    "# ax.axhline(min(good_filters)-0.01, linestyle='--', color='k')\n",
    "# fig.subplots_adjust( hspace=0 )\n",
    "ax.set_xlabel('Filters')\n",
    "fig.legend(frameon=False, bbox_to_anchor=(0.925,0.8));"
   ]
  },
  {
   "cell_type": "code",
   "execution_count": 19,
   "id": "d829e059-572c-4569-83cc-6b3efa87bc26",
   "metadata": {},
   "outputs": [
    {
     "data": {
      "image/png": "[encoded data removed]",
      "text/plain": [
       "<Figure size 432x288 with 1 Axes>"
      ]
     },
     "metadata": {
      "needs_background": "light"
     },
     "output_type": "display_data"
    }
   ],
   "source": [
    "fig, ax = plt.subplots()\n",
    "for i, component in enumerate(settings.CLASSIFYING_COMPONENTS):\n",
    "    _, _, snrs, _, _, ba_score_no_noise, ba_scores = pickle.load(open(f\"output/result_{component}.pkl\", \"rb\"))\n",
    "    lower, median, upper = np.percentile(ba_sgravitation misner thorne wheelercores, (2.5, 50, 97.5), axis=1)\n",
    "    plotline, = ax.plot(snrs, median, label=nice_component_names[i])\n",
    "    \n",
    "    ax.axhline(ba_score_no_noise, color=plotline.get_color(), linestyle='--', alpha=0.5)\n",
    "    ax.fill_between(snrs, lower, upper, alpha=0.4)\n",
    "\n",
    "ax.legend(frameon=False)\n",
    "ax.set_xlabel('S/N')\n",
    "ax.set_ylabel('Balanced Accuracy');"
   ]
  },
  {
   "cell_type": "code",
   "execution_count": null,
   "id": "da41ac7b-4564-4184-9d46-2b899d2acbde",
   "metadata": {},
   "outputs": [],
   "source": []
  },
  {
   "cell_type": "code",
   "execution_count": 101,
   "id": "43c25d26-aa89-4bcb-8391-26c67bededc7",
   "metadata": {},
   "outputs": [
    {
     "data": {
      "image/png": "[encoded data removed]",
      "text/plain": [
       "<Figure size 288x576 with 3 Axes>"
      ]
     },
     "metadata": {
      "needs_background": "light"
     },
     "output_type": "display_data"
    }
   ],
   "source": [
    "fig, axes = plt.subplots(nrows=feature_importance.shape[0], sharex=True, figsize=(4,8))\n",
    "color_list = ['tab:red', 'tab:orange', 'tab:blue']\n",
    "for i, ax in enumerate(axes):\n",
    "    ax.bar(nice_filter_names, feature_importance[i,:], color=color_list[i], label=nice_component_names[i])\n",
    "    ax.set_ylabel('Feature Importance')\n",
    "fig.subplots_adjust( hspace=0 )\n",
    "axes[2].set_xlabel('Filters')\n",
    "fig.legend(frameon=False, bbox_to_anchor=(1.2, 0.6));"
   ]
  }
 ],
 "metadata": {
  "kernelspec": {
   "display_name": "Python 3",
   "language": "python",
   "name": "python3"
  },
  "language_info": {
   "codemirror_mode": {
    "name": "ipython",
    "version": 3
   },
   "file_extension": ".py",
   "mimetype": "text/x-python",
   "name": "python",
   "nbconvert_exporter": "python",
   "pygments_lexer": "ipython3",
   "version": "3.8.2"
  }
 },
 "nbformat": 4,
 "nbformat_minor": 5
}
