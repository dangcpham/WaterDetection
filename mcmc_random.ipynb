{
 "cells": [
  {
   "cell_type": "code",
   "execution_count": 7,
   "metadata": {},
   "outputs": [],
   "source": [
    "import utils\n",
    "import settings\n",
    "import pickle\n",
    "import numpy as np"
   ]
  },
  {
   "cell_type": "code",
   "execution_count": 102,
   "metadata": {},
   "outputs": [],
   "source": [
    "import corner"
   ]
  },
  {
   "cell_type": "code",
   "execution_count": 2,
   "metadata": {},
   "outputs": [],
   "source": [
    "import matplotlib.pyplot as plt\n",
    "plt.rc('text', usetex=True)\n",
    "plt.rc('font', size=14)\n",
    "plt.rc('legend', fontsize=13)"
   ]
  },
  {
   "cell_type": "code",
   "execution_count": 120,
   "metadata": {},
   "outputs": [],
   "source": [
    "# important components (we only really care about water, cloud, snow)\n",
    "selected_idx = [settings.labels.index(component)\n",
    "                for component in settings.CLASSIFYING_COMPONENTS]"
   ]
  },
  {
   "cell_type": "code",
   "execution_count": 121,
   "metadata": {},
   "outputs": [
    {
     "data": {
      "text/plain": [
       "['seawater', 'snow', 'cloud']"
      ]
     },
     "execution_count": 121,
     "metadata": {},
     "output_type": "execute_result"
    }
   ],
   "source": [
    "settings.CLASSIFYING_COMPONENTS"
   ]
  },
  {
   "cell_type": "code",
   "execution_count": null,
   "metadata": {},
   "outputs": [],
   "source": []
  },
  {
   "cell_type": "code",
   "execution_count": 149,
   "metadata": {},
   "outputs": [
    {
     "data": {
      "image/png": "[encoded data removed]",
      "text/plain": [
       "<Figure size 432x288 with 2 Axes>"
      ]
     },
     "metadata": {
      "needs_background": "light"
     },
     "output_type": "display_data"
    }
   ],
   "source": [
    "fig, axes = plt.subplots(ncols=2, sharey=True)\n",
    "for j, snr in enumerate([10 ,50]):\n",
    "    true_thetas, chains = pickle.load(open(f'{settings.OUTPUT_DIR}/MCMC_SNR_{snr}_true_and_chains.pkl', 'rb'))\n",
    "    \n",
    "    median_arr = np.zeros((len(chains), len(selected_idx)))\n",
    "    true_theta_arr = np.zeros((len(chains), len(selected_idx)))\n",
    "    \n",
    "    theta_diff = np.zeros((len(chains), len(selected_idx)))\n",
    "    theta_upper_diff = np.zeros((len(chains), len(selected_idx)))\n",
    "    theta_lower_diff = np.zeros((len(chains), len(selected_idx)))\n",
    "    \n",
    "    for i, chain in enumerate(chains):\n",
    "        # only get chains for variables we care about\n",
    "        chain_selected = chain[:,selected_idx]\n",
    "        # get estimators\n",
    "        lower, median, upper = np.percentile(chain_selected, [2.5, 50, 97.5], axis=0)\n",
    "        median_arr[i] = median\n",
    "        # get true values\n",
    "        true_theta = true_thetas[i,selected_idx]\n",
    "        true_theta_arr[i] = true_theta\n",
    "        # get diff\n",
    "        theta_diff[i] = np.abs(true_theta - median)\n",
    "        theta_upper_diff[i] = np.abs(upper - median - true_theta)\n",
    "        theta_lower_diff[i] = np.abs(median - lower - true_theta)\n",
    "\n",
    "        # plt.figure()\n",
    "        # fig = corner.corner(\n",
    "        #     chain_selected, labels=settings.CLASSIFYING_COMPONENTS, truths=true_theta,\n",
    "        #     quantiles=[0.025, 0.5, 0.975]);\n",
    "    \n",
    "    all_labels = np.array([['Water', 'Snow', 'Cloud']]*len(chains))\n",
    "    \n",
    "    ax = axes[j]\n",
    "    for i in range(all_labels.shape[1]):\n",
    "        # ax.errorbar(all_labels[:,i], theta_diff[:,i], \n",
    "        #             yerr = (theta_lower_diff[:,i], theta_upper_diff[:,i]),\n",
    "        #             marker='o', alpha=0.5, capsize=5)\n",
    "        ax.scatter(all_labels[:,i], theta_diff[:,i], \n",
    "            marker='o', alpha=0.5)\n",
    "        ax.set_yscale('log')\n",
    "        ax.set_title(f'S/N = {snr}', y=0.85);\n",
    "axes[0].set_ylabel(r' $| \\theta_{m} - \\hat{\\theta} |$');"
   ]
  },
  {
   "cell_type": "code",
   "execution_count": null,
   "metadata": {},
   "outputs": [],
   "source": []
  },
  {
   "cell_type": "code",
   "execution_count": null,
   "metadata": {},
   "outputs": [],
   "source": []
  },
  {
   "cell_type": "code",
   "execution_count": 110,
   "metadata": {},
   "outputs": [
    {
     "data": {
      "image/png": "[encoded data removed]",
      "text/plain": [
       "<Figure size 432x288 with 1 Axes>"
      ]
     },
     "metadata": {
      "needs_background": "light"
     },
     "output_type": "display_data"
    }
   ],
   "source": [
    "for i in range(all_labels.shape[1]):\n",
    "    plt.scatter(all_labels[:,i], true_theta_arr[:,i], alpha=0.5)\n",
    "\n",
    "plt.title(f'S/N = {snr}');"
   ]
  },
  {
   "cell_type": "code",
   "execution_count": 111,
   "metadata": {},
   "outputs": [
    {
     "data": {
      "image/png": "[encoded data removed]",
      "text/plain": [
       "<Figure size 432x288 with 1 Axes>"
      ]
     },
     "metadata": {
      "needs_background": "light"
     },
     "output_type": "display_data"
    }
   ],
   "source": [
    "for i in range(all_labels.shape[1]):\n",
    "    plt.scatter(all_labels[:,i], median_arr[:,i], alpha=0.5)\n",
    "\n",
    "plt.title(f'S/N = {snr}');"
   ]
  },
  {
   "cell_type": "code",
   "execution_count": null,
   "metadata": {},
   "outputs": [],
   "source": []
  }
 ],
 "metadata": {
  "kernelspec": {
   "display_name": "Python 3",
   "language": "python",
   "name": "python3"
  },
  "language_info": {
   "codemirror_mode": {
    "name": "ipython",
    "version": 3
   },
   "file_extension": ".py",
   "mimetype": "text/x-python",
   "name": "python",
   "nbconvert_exporter": "python",
   "pygments_lexer": "ipython3",
   "version": "3.8.2"
  }
 },
 "nbformat": 4,
 "nbformat_minor": 4
}
